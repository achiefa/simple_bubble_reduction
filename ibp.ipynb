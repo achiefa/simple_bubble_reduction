{
 "cells": [
  {
   "cell_type": "code",
   "execution_count": 1,
   "metadata": {},
   "outputs": [],
   "source": [
    "from ibp import BubbleIntegral\n",
    "import sympy as sp\n",
    "\n",
    "sp.init_printing(use_unicode=False)"
   ]
  },
  {
   "cell_type": "code",
   "execution_count": 2,
   "metadata": {},
   "outputs": [],
   "source": [
    "test = BubbleIntegral(2,2)"
   ]
  },
  {
   "cell_type": "code",
   "execution_count": 3,
   "metadata": {},
   "outputs": [
    {
     "data": {
      "image/png": "[encoded data removed]",
      "text/latex": [
       "$\\displaystyle \\left[ \\left( \\left( 2, \\  1\\right), \\  \\frac{- 2.0 m^{2} + p^{2}}{p^{2} \\left(4 m^{2} - p^{2}\\right)}\\right), \\  \\left( \\left( 0, \\  3\\right), \\  \\frac{4.0 m^{2}}{p^{2} \\left(4 m^{2} - p^{2}\\right)}\\right), \\  \\left( \\left( 1, \\  2\\right), \\  \\frac{- 1.0 D p^{2} - 2.0 m^{2} + 5.0 p^{2}}{p^{2} \\left(4 m^{2} - p^{2}\\right)}\\right)\\right]$"
      ],
      "text/plain": [
       "                 2    2                      2                         2       >\n",
       "          - 2.0*m  + p                  4.0*m                 - 1.0*D*p  - 2.0 >\n",
       "[((2, 1), --------------), ((0, 3), --------------), ((1, 2), ---------------- >\n",
       "           2 /   2    2\\             2 /   2    2\\                    2 /   2  >\n",
       "          p *\\4*m  - p /            p *\\4*m  - p /                   p *\\4*m   >\n",
       "\n",
       ">   2        2  \n",
       "> *m  + 5.0*p   \n",
       "> ------------)]\n",
       ">    2\\         \n",
       "> - p /         "
      ]
     },
     "execution_count": 3,
     "metadata": {},
     "output_type": "execute_result"
    }
   ],
   "source": [
    "test.get_coefficients()"
   ]
  },
  {
   "cell_type": "code",
   "execution_count": 4,
   "metadata": {},
   "outputs": [],
   "source": [
    "test.reduce()"
   ]
  },
  {
   "cell_type": "code",
   "execution_count": 5,
   "metadata": {},
   "outputs": [
    {
     "name": "stdout",
     "output_type": "stream",
     "text": [
      "(I_(2, 2)(D)) = I_{11}(D)*(D - 3)*(D*p**2 + 4*m**2 - 6*p**2)/(p**2*(4*m**2 - p**2)**2) + 2*I_{20}(D)*(-2*D*m**2 + 6*m**2 + p**2)/(p**2*(16*m**4 - 8*m**2*p**2 + p**4))\n"
     ]
    }
   ],
   "source": [
    "print(test)"
   ]
  },
  {
   "cell_type": "code",
   "execution_count": 6,
   "metadata": {},
   "outputs": [],
   "source": [
    "reduced_integral, _ = test.show()"
   ]
  },
  {
   "cell_type": "code",
   "execution_count": 7,
   "metadata": {},
   "outputs": [
    {
     "data": {
      "image/png": "[encoded data removed]",
      "text/latex": [
       "$\\displaystyle \\frac{I_{11}(D) \\left(D - 3\\right) \\left(D p^{2} + 4 m^{2} - 6 p^{2}\\right)}{p^{2} \\left(4 m^{2} - p^{2}\\right)^{2}} + \\frac{2 I_{20}(D) \\left(- 2 D m^{2} + 6 m^{2} + p^{2}\\right)}{p^{2} \\left(16 m^{4} - 8 m^{2} p^{2} + p^{4}\\right)}$"
      ],
      "text/plain": [
       "                  /   2      2      2\\               /       2      2    2\\\n",
       "I_{11}(D)*(D - 3)*\\D*p  + 4*m  - 6*p /   2*I_{20}(D)*\\- 2*D*m  + 6*m  + p /\n",
       "-------------------------------------- + ----------------------------------\n",
       "                         2                    2 /    4      2  2    4\\     \n",
       "            2 /   2    2\\                    p *\\16*m  - 8*m *p  + p /     \n",
       "           p *\\4*m  - p /                                                  "
      ]
     },
     "execution_count": 7,
     "metadata": {},
     "output_type": "execute_result"
    }
   ],
   "source": [
    "reduced_integral"
   ]
  },
  {
   "cell_type": "code",
   "execution_count": null,
   "metadata": {},
   "outputs": [],
   "source": []
  }
 ],
 "metadata": {
  "kernelspec": {
   "display_name": "nnpdf_doc",
   "language": "python",
   "name": "python3"
  },
  "language_info": {
   "codemirror_mode": {
    "name": "ipython",
    "version": 3
   },
   "file_extension": ".py",
   "mimetype": "text/x-python",
   "name": "python",
   "nbconvert_exporter": "python",
   "pygments_lexer": "ipython3",
   "version": "3.12.6"
  }
 },
 "nbformat": 4,
 "nbformat_minor": 2
}
